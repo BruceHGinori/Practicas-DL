{
 "cells": [
  {
   "cell_type": "markdown",
   "metadata": {},
   "source": [
    "# <center> <span style=\"color:indigo\">        Escuela de ML y DL Módulo 1</span> </center> \n",
    "##  <center> <span style=\"color:DarkBlue\">          Tarea 1. Nombre de la tarea </span>  </center>\n",
    "##  <center> <span style=\"color:DarkBlue\"> Nombre y Apellidos</span>  </center>\n",
    "##  <center> <span style=\"color:DarkBlue\"> Correo electrónico</span>  </center>\n",
    "##  <center> <span style=\"color:DarkBlue\"> Diciembre de 2021</span>  </center>\n",
    "\n",
    "##  Contenido\n",
    "1. <span style=\"color:DarkBlue\">Planteamiento del problema (qué hacer)</span>\n",
    "2. <span style=\"color:DarkBlue\">Planteamiento de la solución (cómo se hizó)</span>\n",
    "3. <span style=\"color:DarkBlue\">Ejemplo de ejecución (código)</span>\n",
    "4. <span style=\"color:DarkBlue\">Conclusiones </span>\n",
    "5. <span style=\"color:DarkBlue\">Referencias</span>\n",
    "\n",
    "\n",
    "## <span style=\"color:DarkBlue\"> 1. Planteamiento del problema</span>\n",
    "Colocar el enunciado del problema\n",
    "\n",
    "## <span style=\"color:DarkciónBlue\"> 2. Planteamiento de la solución</span>\n",
    "Describir como se plantea la solución, teorías que utilizas o metodologías\n",
    "\n",
    "El código es:\n"
   ]
  },
  {
   "cell_type": "code",
   "execution_count": 5,
   "metadata": {},
   "outputs": [],
   "source": [
    "#3 Código y ejemplo de la solución\n",
    "\n",
    "#Librerias utilizadas\n",
    "import matplotlib.pyplot as plt\n",
    "import numpy as np\n",
    "import math\n",
    "\n",
    "#Código de la solución\n",
    "\n",
    "#Funciones\n",
    "\n",
    "## 3. Ejecutar para ver ejemplo"
   ]
  },
  {
   "cell_type": "markdown",
   "metadata": {},
   "source": [
    "## <span style=\"color:DarkciónBlue\"> 4. Conclusiones</span>\n",
    "\n",
    "Agallazgos, mejoras a manera de conclusiones\n"
   ]
  },
  {
   "cell_type": "markdown",
   "metadata": {},
   "source": [
    "## <span style=\"color:DarkciónBlue\"> 5. Referencias</span>\n",
    "### Documentos consultados \n"
   ]
  },
  {
   "cell_type": "markdown",
   "metadata": {},
   "source": [
    "# Fin"
   ]
  },
  {
   "cell_type": "code",
   "execution_count": null,
   "metadata": {},
   "outputs": [],
   "source": []
  }
 ],
 "metadata": {
  "kernelspec": {
   "display_name": "Python 3 (ipykernel)",
   "language": "python",
   "name": "python3"
  },
  "language_info": {
   "codemirror_mode": {
    "name": "ipython",
    "version": 3
   },
   "file_extension": ".py",
   "mimetype": "text/x-python",
   "name": "python",
   "nbconvert_exporter": "python",
   "pygments_lexer": "ipython3",
   "version": "3.9.19"
  }
 },
 "nbformat": 4,
 "nbformat_minor": 4
}
